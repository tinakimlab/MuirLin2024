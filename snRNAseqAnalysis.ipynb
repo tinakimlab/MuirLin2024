{
 "cells": [
  {
   "cell_type": "code",
   "execution_count": null,
   "id": "0c79a7dd",
   "metadata": {},
   "outputs": [],
   "source": [
    "import numpy as np\n",
    "import pandas as pd\n",
    "import scanpy as sc\n",
    "from matplotlib.pyplot import rc_context\n",
    "from scipy import spatial\n",
    "import anndata as ad\n",
    "import matplotlib.pyplot as plt\n",
    "from scipy.stats import zscore"
   ]
  },
  {
   "cell_type": "code",
   "execution_count": null,
   "id": "dadb11b9",
   "metadata": {},
   "outputs": [],
   "source": [
    "sc.settings.verbosity = 3             # verbosity: errors (0), warnings (1), info (2), hints (3)\n",
    "sc.logging.print_header()\n",
    "sc.settings.set_figure_params(dpi=80, facecolor='white')"
   ]
  },
  {
   "cell_type": "code",
   "execution_count": null,
   "id": "2e7a755f",
   "metadata": {},
   "outputs": [],
   "source": [
    "results_file = r'C:\\Users\\Jessie\\Desktop\\PFC-DOI-scFlare\\RNAseqAnalysis\\results.h5ad'  # the file that will store the analysis results\n",
    "adata = sc.read_10x_mtx(\n",
    "    r'C:/Users/Jessie/Desktop/PFC-DOI-scFlare/RNAseqAnalysis',  # the directory with the `.mtx` file\n",
    "    var_names='gene_symbols',                # use gene symbols for the variable names (variables-axis index)\n",
    "    cache=True)                              # write a cache file for faster subsequent reading\n",
    "\n",
    "adata.var_names_make_unique()  # this is unnecessary if using `var_names='gene_ids'` in `sc.read_10x_mtx`"
   ]
  },
  {
   "cell_type": "markdown",
   "id": "43e15ee7",
   "metadata": {},
   "source": [
    "## Pre-processing"
   ]
  },
  {
   "cell_type": "code",
   "execution_count": null,
   "id": "2e6151f3",
   "metadata": {},
   "outputs": [],
   "source": [
    "sc.pp.filter_cells(adata, min_genes=600)  #cells that contain less than 600 genes\n",
    "sc.pp.filter_genes(adata, min_cells=2) #genes that are in less than 2 cells\n",
    "adata.var['mt'] = adata.var_names.str.startswith('mt-')  # annotate the group of mitochondrial genes as 'mt'\n",
    "sc.pp.calculate_qc_metrics(adata, qc_vars=['mt'], percent_top=None, log1p=False, inplace=True)\n",
    "sc.pl.violin(adata, ['n_genes_by_counts', 'total_counts', 'pct_counts_mt'],\n",
    "             jitter=0.4, multi_panel=True)"
   ]
  },
  {
   "cell_type": "code",
   "execution_count": null,
   "id": "759f73af",
   "metadata": {},
   "outputs": [],
   "source": [
    "sc.pl.scatter(adata, x='total_counts', y='pct_counts_mt')\n",
    "sc.pl.scatter(adata, x='total_counts', y='n_genes_by_counts')"
   ]
  },
  {
   "cell_type": "code",
   "execution_count": null,
   "id": "1ad82d57",
   "metadata": {},
   "outputs": [],
   "source": [
    "#Remove outliers\n",
    "adata = adata[adata.obs.n_genes_by_counts < 6000, :]\n",
    "adata = adata[adata.obs.total_counts < 40000, :]\n",
    "adata = adata[adata.obs.pct_counts_mt < 20, :]\n"
   ]
  },
  {
   "cell_type": "code",
   "execution_count": null,
   "id": "6afaa027",
   "metadata": {},
   "outputs": [],
   "source": [
    "# Remove sex/activity dependent genes\n",
    "non_mito_genes_list = [name for name in adata.var_names if not name.startswith('mt-')]\n",
    "adata = adata[:, non_mito_genes_list]\n",
    "rmv_list=['Trf','Plp1','Mog','Mobp',\"Mfge8\",\"Mbp\",\"Hbb-bs\",\"H2-DMb2\",\"Fos\",\"Jun\",\"Junb\",\"Egr1\",\"Xist\",\"Tsix\",\"Eif2s3y\",\"Uty\",\"Kdm5d\"]\n",
    "non_rmv = [name for name in adata.var_names if name not in rmv_list]\n",
    "adata = adata[:, non_rmv]"
   ]
  },
  {
   "cell_type": "code",
   "execution_count": null,
   "id": "3ea3f9c5",
   "metadata": {},
   "outputs": [],
   "source": [
    "#Normalize\n",
    "sc.pp.normalize_total(adata, target_sum= None)\n",
    "sc.pp.log1p(adata)"
   ]
  },
  {
   "cell_type": "markdown",
   "id": "a250da48",
   "metadata": {},
   "source": [
    "## Clustering"
   ]
  },
  {
   "cell_type": "code",
   "execution_count": null,
   "id": "fba6c64b",
   "metadata": {},
   "outputs": [],
   "source": [
    "#Labeling highly variable genes\n",
    "sc.pp.highly_variable_genes(adata, min_mean=0.0125, max_mean=3, min_disp=0.5)\n",
    "sc.pl.highly_variable_genes(adata)"
   ]
  },
  {
   "cell_type": "code",
   "execution_count": null,
   "id": "3c985143",
   "metadata": {},
   "outputs": [],
   "source": [
    "adata.raw = adata\n",
    "adata = adata[:, adata.var.highly_variable]\n",
    "#Regress out effects of total counts per cell and the percentage of mitochondrial genes expressed. \n",
    "\n",
    "sc.pp.regress_out(adata, ['total_counts', 'pct_counts_mt'])\n",
    "#Scale the data to unit variance.\n",
    "sc.pp.scale(adata, max_value=10)"
   ]
  },
  {
   "cell_type": "code",
   "execution_count": null,
   "id": "566777ea",
   "metadata": {},
   "outputs": [],
   "source": [
    "#Remove the tTa and TRE for clustering; create new object where they are left in \n",
    "flicre= adata[:,['tTA','TREmcherry']]\n",
    "flicre_list=['tTA', 'TREmcherry']\n",
    "non_flicre=[name for name in adata.var_names if name not in flicre_list]\n",
    "adata_fli=adata.copy()\n",
    "adata=adata[:, non_flicre]"
   ]
  },
  {
   "cell_type": "markdown",
   "id": "b7584171",
   "metadata": {},
   "source": [
    "### PCA "
   ]
  },
  {
   "cell_type": "code",
   "execution_count": null,
   "id": "ac395c14",
   "metadata": {},
   "outputs": [],
   "source": [
    "#PCA for dimentionality reduction\n",
    "sc.tl.pca(adata, svd_solver='arpack')\n",
    "sc.pl.pca_variance_ratio(adata, n_pcs=50,log=True)\n",
    "adata.write(results_file)"
   ]
  },
  {
   "cell_type": "code",
   "execution_count": null,
   "id": "7608e58c",
   "metadata": {},
   "outputs": [],
   "source": [
    "#compute neighborhood graph\n",
    "sc.pp.neighbors(adata, n_neighbors=10, n_pcs=26)\n",
    "sc.tl.umap(adata)\n",
    "sc.pl.umap(adata)"
   ]
  },
  {
   "cell_type": "code",
   "execution_count": null,
   "id": "4fba7098",
   "metadata": {},
   "outputs": [],
   "source": [
    "#Cluster and plot the neighborhood graph\n",
    "sc.tl.leiden(adata, resolution=.1)\n",
    "sc.pl.umap(adata, color='leiden')"
   ]
  },
  {
   "cell_type": "code",
   "execution_count": null,
   "id": "1465d755",
   "metadata": {},
   "outputs": [],
   "source": [
    "#Round 1: Remove outliers \n",
    "adata.obs=adata.obs.assign(row_number=range(len(adata.obs)))\n",
    "adata_fli.obs=adata_fli.obs.assign(row_number=range(len(adata_fli.obs)))\n",
    "\n",
    "x=pd.DataFrame(adata.obsm['X_umap'][0:,0])\n",
    "y=pd.DataFrame(adata.obsm['X_umap'][0:,1])\n",
    "\n",
    "num_clusters=adata.obs['leiden'].nunique()\n",
    "comx=np.array([])\n",
    "comy=np.array([])\n",
    "del_outliers_round1=np.array([])\n",
    "\n",
    "for c in range(0,int(num_clusters)):\n",
    "    curr_clust=adata.obs[adata.obs['leiden'].isin([str(c)])]['row_number']\n",
    "    \n",
    "        # scale to min and max\n",
    "    xmin=np.min(x.iloc[curr_clust])\n",
    "    xmax=np.max(x.iloc[curr_clust])\n",
    "    ymin=np.min(y.iloc[curr_clust])\n",
    "    ymax=np.max(y.iloc[curr_clust])\n",
    "        \n",
    "    curr_x=np.array((x.iloc[curr_clust]-xmin)/(xmax-xmin))\n",
    "    curr_y=np.array((y.iloc[curr_clust]-ymin)/(ymax-ymin))\n",
    "    \n",
    "    comx=np.append(comx,np.median(curr_x))\n",
    "    comy=np.append(comy,np.median(curr_y))\n",
    "                                                  \n",
    "    dist=np.array([])\n",
    "    for d in range(0,len(curr_x)):\n",
    "        dist=np.append(dist,spatial.distance.euclidean([comx[c],comy[c]],[float(curr_x[d]),float(curr_y[d])]))\n",
    "    outliers=np.where(dist>0.5)[0]\n",
    "    idx=curr_clust[outliers]\n",
    "    del_outliers_round1=np.append(del_outliers_round1,np.asarray(idx)).astype(int)\n",
    "    adata=adata[~adata.obs['row_number'].isin(del_outliers_round1)]\n",
    "    adata_fli=adata_fli[~adata_fli.obs['row_number'].isin(del_outliers_round1)]"
   ]
  },
  {
   "cell_type": "code",
   "execution_count": null,
   "id": "c756afc4",
   "metadata": {},
   "outputs": [],
   "source": [
    "adata.obs=adata.obs.assign(row_number=range(len(adata.obs)))\n",
    "adata_fli.obs=adata_fli.obs.assign(row_number=range(len(adata_fli.obs)))"
   ]
  },
  {
   "cell_type": "code",
   "execution_count": null,
   "id": "f0ce9e5b",
   "metadata": {},
   "outputs": [],
   "source": [
    "#Round 2: Remove outliers\n",
    "x=pd.DataFrame(adata.obsm['X_umap'][0:,0])\n",
    "y=pd.DataFrame(adata.obsm['X_umap'][0:,1])\n",
    "\n",
    "num_clusters=max(adata.obs['leiden'])\n",
    "comx=np.array([])\n",
    "comy=np.array([])\n",
    "del_outliers_round2=np.array([])\n",
    "del_barcodes_round2=np.array([])\n",
    "for c in range(0,int(num_clusters)):\n",
    "    curr_clust=adata.obs[adata.obs['leiden'].isin([str(c)])]['row_number']\n",
    "    \n",
    "        # scale to min and max\n",
    "    xmin=np.min(x.iloc[curr_clust])\n",
    "    xmax=np.max(x.iloc[curr_clust])\n",
    "    ymin=np.min(y.iloc[curr_clust])\n",
    "    ymax=np.max(y.iloc[curr_clust])\n",
    "        \n",
    "    curr_x=np.array((x.iloc[curr_clust]-xmin)/(xmax-xmin))\n",
    "    curr_y=np.array((y.iloc[curr_clust]-ymin)/(ymax-ymin))\n",
    "    \n",
    "    comx=np.append(comx,np.median(curr_x))\n",
    "    comy=np.append(comy,np.median(curr_y))\n",
    "                                                  \n",
    "    dist=np.array([])\n",
    "    for d in range(0,len(curr_x)):\n",
    "        dist=np.append(dist,spatial.distance.euclidean([comx[c],comy[c]],[float(curr_x[d]),float(curr_y[d])]))\n",
    "    outliers=np.where(dist>0.5)[0]\n",
    "    idx=curr_clust[outliers]\n",
    "    del_outliers_round2=np.append(del_outliers_round2,np.asarray(idx)).astype(int)\n",
    "    adata=adata[~adata.obs['row_number'].isin(del_outliers_round2)]\n",
    "    adata_fli=adata_fli[~adata_fli.obs['row_number'].isin(del_outliers_round2)]"
   ]
  },
  {
   "cell_type": "code",
   "execution_count": null,
   "id": "7216c2f1",
   "metadata": {},
   "outputs": [],
   "source": [
    "adata.obs=adata.obs.assign(row_number=range(len(adata.obs)))\n",
    "adata_fli.obs=adata_fli.obs.assign(row_number=range(len(adata_fli.obs)))"
   ]
  },
  {
   "cell_type": "code",
   "execution_count": null,
   "id": "3df1daaa",
   "metadata": {},
   "outputs": [],
   "source": [
    "#Plot new UMAP- Fig S6A\n",
    "sc.tl.leiden(adata, resolution=.1)\n",
    "sc.pl.umap(adata, color='leiden')"
   ]
  },
  {
   "cell_type": "code",
   "execution_count": null,
   "id": "b05d92c3",
   "metadata": {},
   "outputs": [],
   "source": [
    "#Fnd marker genes\n",
    "sc.tl.rank_genes_groups(adata, 'leiden', method='t-test')\n",
    "sc.pl.rank_genes_groups(adata, n_genes=10, sharey=False)"
   ]
  },
  {
   "cell_type": "code",
   "execution_count": null,
   "id": "3c170dee",
   "metadata": {},
   "outputs": [],
   "source": [
    "#Export genes separated by cluster- DataS3\n",
    "result = adata.uns['rank_genes_groups']\n",
    "groups = result['names'].dtype.names\n",
    "cell_genes= pd.DataFrame(\n",
    "    {group + '_' + key[:1]: result[key][group]\n",
    "    for group in groups for key in ['names','logfoldchanges', 'pvals_adj']})\n",
    "cell_genes.to_csv('genes_allcells.csv')"
   ]
  },
  {
   "cell_type": "code",
   "execution_count": null,
   "id": "456685f7",
   "metadata": {},
   "outputs": [],
   "source": [
    "#Annotate cluster \n",
    "cluster2annotation = {\n",
    "     '0': '0Neuron- Exc1',\n",
    "     '1': '1Neuron- Exc2',\n",
    "     '2': '2Unk',\n",
    "     '3': '3Oligodencrocyte',\n",
    "     '4': '4Microglia',\n",
    "     '5': '5Neuron- Exc3',\n",
    "     '6': '6Astrocytes',\n",
    "     '7': '7Neuron- Inh1',\n",
    "     '8': '8Neuron- Exc4',\n",
    "     '9': '9Oligodendrocyte2',\n",
    "     '10': '10Neuron- Inh2',\n",
    "     '11': '11Neuron- Exc5',\n",
    "     '12': '12Ukn2',\n",
    "}\n",
    "\n",
    "adata.obs['cell type'] = adata.obs['leiden'].map(cluster2annotation).astype('category')\n",
    "sc.pl.umap(adata, color='cell type', legend_loc='on data',\n",
    "           frameon=False, legend_fontsize=10, legend_fontoutline=2)"
   ]
  },
  {
   "cell_type": "code",
   "execution_count": null,
   "id": "ba68dfbf",
   "metadata": {},
   "outputs": [],
   "source": [
    "adata.write(results_file)"
   ]
  },
  {
   "cell_type": "code",
   "execution_count": null,
   "id": "518d7e4d",
   "metadata": {},
   "outputs": [],
   "source": [
    "#Copy barcodes into array with TTA and TRE genes  still present\n",
    "barcodes=adata.obs.index\n",
    "barcodes_fli=adata_fli.obs.index\n",
    "adata.obs['barcodes']=barcodes\n",
    "adata_fli.obs['barcodes']=barcodes_fli"
   ]
  },
  {
   "cell_type": "markdown",
   "id": "52dd8b42",
   "metadata": {},
   "source": [
    "## Neurons"
   ]
  },
  {
   "cell_type": "code",
   "execution_count": null,
   "id": "55142169",
   "metadata": {},
   "outputs": [],
   "source": [
    "#Isolate neurons\n",
    "neurcol=['0','1','5','7','8','10','11']\n",
    "neurons= adata[adata.obs['leiden'].isin(neurcol)].copy()\n",
    "neurons_fli=adata_fli[adata.obs['leiden'].isin(neurcol)].copy()"
   ]
  },
  {
   "cell_type": "code",
   "execution_count": null,
   "id": "6f0de661",
   "metadata": {},
   "outputs": [],
   "source": [
    "# Recluster neurons \n",
    "#PCA\n",
    "sc.tl.pca(neurons, svd_solver='arpack')\n",
    "sc.pl.pca_variance_ratio(neurons, n_pcs=50, log=True)"
   ]
  },
  {
   "cell_type": "code",
   "execution_count": null,
   "id": "f754c956",
   "metadata": {},
   "outputs": [],
   "source": [
    "sc.pp.neighbors(neurons, n_neighbors=10, n_pcs=23)\n",
    "sc.tl.umap(neurons)\n",
    "sc.pl.umap(neurons)"
   ]
  },
  {
   "cell_type": "code",
   "execution_count": null,
   "id": "7088aaad",
   "metadata": {},
   "outputs": [],
   "source": [
    "#Plot neuronal UMAP-- Fig3B\n",
    "sc.tl.leiden(neurons, resolution=.2)\n",
    "sc.pl.umap(neurons, color='leiden')"
   ]
  },
  {
   "cell_type": "code",
   "execution_count": null,
   "id": "aeeb432b",
   "metadata": {},
   "outputs": [],
   "source": [
    "#Fnd marker genes\n",
    "sc.tl.rank_genes_groups(neurons, 'leiden', method='t-test')\n",
    "sc.pl.rank_genes_groups(neurons, n_genes=10, sharey=False)"
   ]
  },
  {
   "cell_type": "code",
   "execution_count": null,
   "id": "0edbe2d4",
   "metadata": {},
   "outputs": [],
   "source": [
    "result = neurons.uns['rank_genes_groups']\n",
    "groups = result['names'].dtype.names\n",
    "neuron_genes= pd.DataFrame(\n",
    "    {group + '_' + key[:1]: result[key][group]\n",
    "    for group in groups for key in ['names','logfoldchanges', 'pvals_adj']})\n",
    "neuron_genes.to_csv('genes_neurons.csv')"
   ]
  },
  {
   "cell_type": "code",
   "execution_count": null,
   "id": "71cee745",
   "metadata": {},
   "outputs": [],
   "source": [
    "newneurcol=['0','1','2','3','4','5','6','7','8']\n",
    "\n",
    "neurons_fli=neurons_fli[neurons.obs['leiden'].isin(newneurcol)].copy()\n",
    "neurons= neurons[neurons.obs['leiden'].isin(newneurcol)].copy()\n",
    "neurons_fli.obs['leiden']=neurons.obs['leiden']"
   ]
  },
  {
   "cell_type": "code",
   "execution_count": null,
   "id": "9f98337b",
   "metadata": {},
   "outputs": [],
   "source": [
    "cluster2annotation = {\n",
    "     '0': 'Exc1',\n",
    "     '1': 'Exc2',\n",
    "     '2': 'Exc3',\n",
    "     '3': 'Exc4',\n",
    "     '4': 'Inh1',\n",
    "     '5': 'Exc5',\n",
    "     '6': 'Inh2',\n",
    "     '7': 'Exc6',\n",
    "     '8': 'Exc7'\n",
    "\n",
    "}\n",
    "neurons.obs['cell type'] = neurons.obs['leiden'].map(cluster2annotation).astype('category')\n",
    "sc.pl.umap(neurons, color='cell type', legend_loc='on data',\n",
    "           frameon=False, legend_fontsize=10, legend_fontoutline=2)"
   ]
  },
  {
   "cell_type": "code",
   "execution_count": null,
   "id": "d84140c0",
   "metadata": {},
   "outputs": [],
   "source": [
    "##Multigene matrix plot-- Fig3C\n",
    "clust_genes_dict = {\n",
    "    'Exc1': ['Cd44'],\n",
    "    'Exc2': ['Foxp2', 'Syt6', 'Sla'],\n",
    "    'Exc3': ['Otof', 'Cux2'],\n",
    "    'Exc4': ['Npr3'],\n",
    "    'Inh1': ['Sst','Pvalb'],\n",
    "    'Exc5': ['Tshz2'],\n",
    "    'Inh2': ['Vip'],\n",
    "    'Exc6': ['Pld5'],\n",
    "    'Exc7': ['Cdh18', 'Tle4']\n",
    "}\n",
    "\n",
    "\n",
    "sc.pl.matrixplot(neurons, clust_genes_dict, 'cell type', cmap='Blues', standard_scale='var', show=False)\n",
    "plt.savefig(\"neuron_marker_heatmapOtherGenes.pdf\")"
   ]
  },
  {
   "cell_type": "code",
   "execution_count": null,
   "id": "75a86f66",
   "metadata": {},
   "outputs": [],
   "source": [
    "##UMAP gene plot-- Fig3D/E\n",
    "sc.pl.umap(neurons, color=['leiden','tTA'], vmax=0.5)\n",
    "sc.pl.umap(neurons, color=['leiden','TREmcherry'], vmax=1)"
   ]
  },
  {
   "cell_type": "code",
   "execution_count": null,
   "id": "c1897eaf",
   "metadata": {},
   "outputs": [],
   "source": [
    "#Normalized tTA/TREmCherry expression-- Fig3F/G\n",
    "salineNfli_f1=neurons_fli[neurons_fli.obs['barcodes'].str.contains('-1|-2')].copy()\n",
    "doiNfli_f1=neurons_fli[neurons_fli.obs['barcodes'].str.contains('-3|-4')].copy()\n",
    "\n",
    "ax=sc.pl.violin(salineNfli_f1, keys='TREmcherry',use_raw=False, show=False)\n",
    "ax.set_ylim(bottom=-2,top=10.5)\n",
    "plt.savefig(\"tresal_violin.pdf\")\n",
    "ax=sc.pl.violin(doiNfli_f1, keys='TREmcherry',use_raw=False,show=False)\n",
    "ax.set_ylim(bottom=-2,top=10.5)\n",
    "plt.savefig(\"tredoi_violin.pdf\")\n",
    "\n",
    "ax=sc.pl.violin(salineNfli_f1, keys='tTA',use_raw=False, show=False)\n",
    "ax.set_ylim(bottom=-2,top=10.5)\n",
    "plt.savefig(\"tresal_violin.pdf\")\n",
    "ax=sc.pl.violin(doiNfli_f1, keys='tTA',use_raw=False,show=False)\n",
    "ax.set_ylim(bottom=-2,top=10.5)\n",
    "plt.savefig(\"tredoi_violin.pdf\")"
   ]
  },
  {
   "cell_type": "code",
   "execution_count": null,
   "id": "c2125b82",
   "metadata": {},
   "outputs": [],
   "source": [
    "#Quantify #Normalized gene expression of tTA and TRE-Fig 3H\n",
    "genedf = sc.get.obs_df(\n",
    "         neurons_fli,\n",
    "         keys=[\"leiden\", 'TREmcherry','tTA','barcodes'])\n",
    "genedf['z_scoreTRE'] = zscore(genedf['TREmcherry'])\n",
    "genedf['z_scoretTA'] = zscore(genedf['tTA'])\n",
    "   \n",
    "#Classify barcodes SalineDOI\n",
    "salineNfli_f1=genedf[genedf['barcodes'].str.contains('-1|-2')].copy()\n",
    "doiNfli_f1=genedf[genedf['barcodes'].str.contains('-3|-4')].copy()\n",
    "\n",
    "#Gene(tTA and TRE) by cluster\n",
    "clusters = genedf['leiden'].cat.categories\n",
    "\n",
    "#Repeat for each cluster\n",
    "saline=salineNfli_f1[salineNfli_f1['leiden'].isin(['0'])]\n",
    "doi=doiNfli_f1[doiNfli_f1['leiden'].isin(['0'])]\n",
    "saline.to_csv(\"C0S_Zratio.csv\")\n",
    "doi.to_csv(\"C0D_Zratio.csv\")"
   ]
  },
  {
   "cell_type": "code",
   "execution_count": null,
   "id": "8de95c6c",
   "metadata": {},
   "outputs": [],
   "source": [
    "#Dotplot of TREmCherry -- Fig3I\n",
    "sc.pl.dotplot(salineNfli_f1, ['TREmcherry'], 'leiden')\n",
    "sc.pl.dotplot(doiNfli_f1, ['TREmcherry'], 'leiden')\n",
    "#Dotplot of tTA -- Fig S6C\n",
    "sc.pl.dotplot(salineNfli_f1, ['tTA'], 'leiden')\n",
    "sc.pl.dotplot(doiNfli_f1, ['tTA'], 'leiden')"
   ]
  },
  {
   "cell_type": "code",
   "execution_count": null,
   "id": "dfc8608e",
   "metadata": {},
   "outputs": [],
   "source": [
    "#umap of Htrta/Htr2c -- Fig4A/D\n",
    "sc.pl.umap(neurons, color=['leiden','Htr2a'], vmax=3)\n",
    "sc.pl.umap(neurons, color=['leiden','Htr2c'], vmax=3)\n"
   ]
  },
  {
   "cell_type": "code",
   "execution_count": null,
   "id": "e59d9c9c",
   "metadata": {},
   "outputs": [],
   "source": [
    "#Expression of 5HT2A/5HT2C-- Fig4B,E\n",
    "salineN=neurons[neurons.obs['barcodes'].str.contains('-1|-2')].copy()\n",
    "doiN=neurons[neurons.obs['barcodes'].str.contains('-3|-4')].copy()\n",
    "\n",
    "salineNfli_f1=neurons_fli[neurons_fli.obs['barcodes'].str.contains('-1|-2')].copy()\n",
    "doiNfli_f1=neurons_fli[neurons_fli.obs['barcodes'].str.contains('-3|-4')].copy()\n",
    "\n",
    "gene_ids = ['Htr2c','Htr2a']\n",
    "\n",
    "obsSf1 = salineNfli_f1.raw[:,gene_ids].X.toarray()\n",
    "obsDf1 = doiNfli_f1.raw[:,gene_ids].X.toarray()\n",
    "obsSf1 = pd.DataFrame(obsSf1,columns=['Htr2c','Htr2a']),index=salineNfli_f1.obs['leiden'])\n",
    "obsDf1 = pd.DataFrame(obsDf1,columns=['Htr2c','Htr2a']),index=doiNfli_f1.obs['leiden'])\n",
    "\n",
    "saline=obsSf1.loc['0'] #change for each cluster\n",
    "doi=obsDf1.loc['0'] #change for each cluster"
   ]
  },
  {
   "cell_type": "code",
   "execution_count": null,
   "id": "0113ecb8",
   "metadata": {},
   "outputs": [],
   "source": [
    "#Dotplot of Htrta/Htr2c -- Fig4C/F\n",
    "sc.pl.dotplot(neurons, ['Htr2a'], 'leiden')\n",
    "sc.pl.dotplot(neurons, ['Htr2c'], 'leiden')"
   ]
  }
 ],
 "metadata": {
  "kernelspec": {
   "display_name": "Python 3 (ipykernel)",
   "language": "python",
   "name": "python3"
  },
  "language_info": {
   "codemirror_mode": {
    "name": "ipython",
    "version": 3
   },
   "file_extension": ".py",
   "mimetype": "text/x-python",
   "name": "python",
   "nbconvert_exporter": "python",
   "pygments_lexer": "ipython3",
   "version": "3.9.12"
  }
 },
 "nbformat": 4,
 "nbformat_minor": 5
}
